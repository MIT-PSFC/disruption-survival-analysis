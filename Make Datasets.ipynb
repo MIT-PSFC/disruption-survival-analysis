{
 "cells": [
  {
   "cell_type": "code",
   "execution_count": 7,
   "metadata": {},
   "outputs": [
    {
     "name": "stdout",
     "output_type": "stream",
     "text": [
      "The autoreload extension is already loaded. To reload it, use:\n",
      "  %reload_ext autoreload\n"
     ]
    }
   ],
   "source": [
    "from disruption_survival_analysis.manage_datasets import make_training_sets, make_stacked_sets\n",
    "\n",
    "device = 'cmod'\n",
    "#dataset_path = 'random_2000_shots_50%_flattop'\n",
    "#dataset_path = 'no_ufo_flattop_1452_shots_50%_disruptive'\n",
    "#dataset_path = 'random_flattop_256_shots_60%_disruptive'\n",
    "dataset_path = 'no_ufo_flattop_7736_shots_6%_disruptive/stack_4'\n",
    "\n",
    "# Make training sets if they haven't been created yet\n",
    "make_training_sets(device, dataset_path, random_seed=0)\n",
    "\n",
    "# Make a temporal dataset\n",
    "stack_size = 4\n",
    "make_stacked_sets(device, dataset_path, 'train', stack_size)\n",
    "make_stacked_sets(device, dataset_path, 'test', stack_size)\n",
    "make_stacked_sets(device, dataset_path, 'val', stack_size)\n",
    "    "
   ]
  }
 ],
 "metadata": {
  "kernelspec": {
   "display_name": ".venv",
   "language": "python",
   "name": "python3"
  },
  "language_info": {
   "codemirror_mode": {
    "name": "ipython",
    "version": 3
   },
   "file_extension": ".py",
   "mimetype": "text/x-python",
   "name": "python",
   "nbconvert_exporter": "python",
   "pygments_lexer": "ipython3",
   "version": "3.10.7"
  },
  "orig_nbformat": 4
 },
 "nbformat": 4,
 "nbformat_minor": 2
}

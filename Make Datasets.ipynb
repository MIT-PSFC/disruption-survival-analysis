{
 "cells": [
  {
   "cell_type": "code",
   "execution_count": 1,
   "metadata": {},
   "outputs": [
    {
     "name": "stderr",
     "output_type": "stream",
     "text": [
      "c:\\Users\\zkeith\\Documents\\Risk-Aware Frameworks\\disruption-survival-analysis\\disruption_survival_analysis\\manage_datasets.py:85: SettingWithCopyWarning: \n",
      "A value is trying to be set on a copy of a slice from a DataFrame.\n",
      "Try using .loc[row_indexer,col_indexer] = value instead\n",
      "\n",
      "See the caveats in the documentation: https://pandas.pydata.org/pandas-docs/stable/user_guide/indexing.html#returning-a-view-versus-a-copy\n",
      "  train_data[features] = transformer.transform(train_data[features])\n",
      "c:\\Users\\zkeith\\Documents\\Risk-Aware Frameworks\\disruption-survival-analysis\\disruption_survival_analysis\\manage_datasets.py:86: SettingWithCopyWarning: \n",
      "A value is trying to be set on a copy of a slice from a DataFrame.\n",
      "Try using .loc[row_indexer,col_indexer] = value instead\n",
      "\n",
      "See the caveats in the documentation: https://pandas.pydata.org/pandas-docs/stable/user_guide/indexing.html#returning-a-view-versus-a-copy\n",
      "  test_data[features] = transformer.transform(test_data[features])\n",
      "c:\\Users\\zkeith\\Documents\\Risk-Aware Frameworks\\disruption-survival-analysis\\disruption_survival_analysis\\manage_datasets.py:87: SettingWithCopyWarning: \n",
      "A value is trying to be set on a copy of a slice from a DataFrame.\n",
      "Try using .loc[row_indexer,col_indexer] = value instead\n",
      "\n",
      "See the caveats in the documentation: https://pandas.pydata.org/pandas-docs/stable/user_guide/indexing.html#returning-a-view-versus-a-copy\n",
      "  val_data[features] = transformer.transform(val_data[features])\n"
     ]
    }
   ],
   "source": [
    "from disruption_survival_analysis.manage_datasets import make_training_sets, make_stacked_sets\n",
    "\n",
    "device = 'synthetic'\n",
    "#dataset_path = 'random_2000_shots_50%_flattop'\n",
    "#dataset_path = 'no_ufo_flattop_1452_shots_50%_disruptive'\n",
    "#dataset_path = 'random_flattop_256_shots_60%_disruptive'\n",
    "dataset_path = 'synthetic100'\n",
    "\n",
    "# Make training sets if they haven't been created yet\n",
    "make_training_sets(device, dataset_path, random_seed=0)\n",
    "\n",
    "# Make a temporal dataset\n",
    "stack_size = 4\n",
    "make_stacked_sets(device, dataset_path, 'train', stack_size)\n",
    "make_stacked_sets(device, dataset_path, 'test', stack_size)\n",
    "make_stacked_sets(device, dataset_path, 'val', stack_size)\n",
    "    "
   ]
  }
 ],
 "metadata": {
  "kernelspec": {
   "display_name": ".venv",
   "language": "python",
   "name": "python3"
  },
  "language_info": {
   "codemirror_mode": {
    "name": "ipython",
    "version": 3
   },
   "file_extension": ".py",
   "mimetype": "text/x-python",
   "name": "python",
   "nbconvert_exporter": "python",
   "pygments_lexer": "ipython3",
   "version": "3.10.7"
  },
  "orig_nbformat": 4
 },
 "nbformat": 4,
 "nbformat_minor": 2
}

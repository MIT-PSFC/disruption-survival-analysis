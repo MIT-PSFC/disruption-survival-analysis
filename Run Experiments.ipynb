{
 "cells": [
  {
   "cell_type": "code",
   "execution_count": 3,
   "metadata": {},
   "outputs": [
    {
     "name": "stdout",
     "output_type": "stream",
     "text": [
      "The autoreload extension is already loaded. To reload it, use:\n",
      "  %reload_ext autoreload\n",
      "Loaded model from models/cph_cmod_random_256_shots_60%_flattop.pkl\n",
      "Loaded model from models/dcph_cmod_random_256_shots_60%_flattop.pkl\n",
      "Loaded model from models/dsm_cmod_random_256_shots_60%_flattop.pkl\n",
      "Loaded model from models/dcm_cmod_random_256_shots_60%_flattop.pkl\n",
      "Loaded model from models/rsf_cmod_random_256_shots_60%_flattop.pkl\n",
      "Loaded model from models/rf_cmod_random_256_shots_60%_flattop.pkl\n",
      "Loaded model from models/rf_cmod_random_256_shots_60%_flattop.pkl\n"
     ]
    }
   ],
   "source": [
    "%load_ext autoreload\n",
    "%autoreload 2\n",
    "\n",
    "from run_models import load_model\n",
    "from plot_utils import *\n",
    "from DisruptionPredictors import DisruptionPredictorSM, DisruptionPredictorRF, DisruptionPredictorTinguely\n",
    "from preprocess_datasets import ALL_FEATURES, DEFAULT_FEATURES\n",
    "from Experiments import Experiment\n",
    "from plot_experiments import plot_roc_auc_vs_horizon_macro\n",
    "\n",
    "horizons = np.linspace(0.001, 0.3, 11)\n",
    "\n",
    "device = 'cmod'\n",
    "#dataset = 'random100'\n",
    "dataset = 'random_256_shots_60%_flattop'\n",
    "test_dataset = dataset+'_test'\n",
    "numeric_feats = ALL_FEATURES\n",
    "\n",
    "# Load models and create disruption predictors\n",
    "\n",
    "cph_model, cph_transformer = load_model('cph', device, dataset)\n",
    "cph_predictor = DisruptionPredictorSM(\"Cox Proportional Hazards\", cph_model, numeric_feats, cph_transformer)\n",
    "\n",
    "dcph_model, dcph_transformer = load_model('dcph', device, dataset)\n",
    "dcph_predictor = DisruptionPredictorSM(\"Deep Cox Proportional Hazards\", dcph_model, numeric_feats, dcph_transformer)\n",
    "\n",
    "dsm_model, dsm_transformer = load_model('dsm', device, dataset)\n",
    "dsm_predictor = DisruptionPredictorSM(\"Deep Survival Machines\", dsm_model, numeric_feats, dsm_transformer)\n",
    "\n",
    "dcm_model, dcm_transformer = load_model('dcm', device, dataset)\n",
    "dcm_predictor = DisruptionPredictorSM(\"Deep Cox Mixture\", dcm_model, numeric_feats, dcm_transformer)\n",
    "\n",
    "rsf_model, rsf_transformer = load_model('rsf', device, dataset)\n",
    "rsf_predictor = DisruptionPredictorSM(\"Random Survival Forest\", rsf_model, numeric_feats, rsf_transformer)\n",
    "\n",
    "rf_model, rf_transformer = load_model('rf', device, dataset)\n",
    "rf_predictor = DisruptionPredictorRF(\"Random Forest\", rf_model, numeric_feats, rf_transformer)\n",
    "\n",
    "ting_model, ting_transformer = load_model('rf', device, dataset)\n",
    "ting_predictor = DisruptionPredictorTinguely(\"Tinguely et al. 2019\", ting_model, numeric_feats, ting_transformer)\n",
    "\n",
    "# Create experiments for each predictor\n",
    "cph_experiment = Experiment(device, test_dataset, cph_predictor)\n",
    "dcph_experiment = Experiment(device, test_dataset, dcph_predictor)\n",
    "dsm_experiment = Experiment(device, test_dataset, dsm_predictor)\n",
    "\n",
    "\n",
    "\n",
    "\n",
    "\n"
   ]
  },
  {
   "cell_type": "code",
   "execution_count": 14,
   "metadata": {},
   "outputs": [],
   "source": [
    "# Run the experiments\n",
    "experiment_list = [cph_experiment, dsm_experiment]\n",
    "plot_roc_auc_vs_horizon_macro(experiment_list)"
   ]
  }
 ],
 "metadata": {
  "kernelspec": {
   "display_name": ".venv",
   "language": "python",
   "name": "python3"
  },
  "language_info": {
   "codemirror_mode": {
    "name": "ipython",
    "version": 3
   },
   "file_extension": ".py",
   "mimetype": "text/x-python",
   "name": "python",
   "nbconvert_exporter": "python",
   "pygments_lexer": "ipython3",
   "version": "3.10.7"
  },
  "orig_nbformat": 4
 },
 "nbformat": 4,
 "nbformat_minor": 2
}

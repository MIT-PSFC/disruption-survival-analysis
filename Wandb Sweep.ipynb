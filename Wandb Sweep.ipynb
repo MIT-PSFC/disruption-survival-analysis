{
 "cells": [
  {
   "cell_type": "code",
   "execution_count": 10,
   "metadata": {},
   "outputs": [
    {
     "name": "stdout",
     "output_type": "stream",
     "text": [
      "Create sweep with ID: vmo9e8h1\n",
      "Sweep URL: https://wandb.ai/z-team/local-sweep/sweeps/vmo9e8h1\n"
     ]
    }
   ],
   "source": [
    "import wandb\n",
    "#import random\n",
    "\n",
    "device = 'cmod'\n",
    "dataset_path = 'random_flattop_256_shots_60%_disruptive'\n",
    "model = 'cph'\n",
    "evaluation_method = 'timeslice_ibs'\n",
    "\n",
    "name = device + '-' + dataset_path + '-' + model + '-' + evaluation_method\n",
    "\n",
    "# Define sweep config\n",
    "sweep_configuration = {\n",
    "    'method': 'bayes',\n",
    "    'name': name,\n",
    "    'metric': {'goal': 'minimize', 'name': evaluation_method},\n",
    "    'parameters': \n",
    "    {\n",
    "        'valmin': {'min': 0.0, 'max': 0.4},\n",
    "        'valmax': {'min': 0.6, 'max': 1.0},\n",
    "        'numval': {'min': 4, 'max': 100},\n",
    "        'l2': {'max': 0.01, 'min': 0.00001, 'distribution': 'log_uniform_values'}\n",
    "    }\n",
    "}\n",
    "\n",
    "# Initialize sweep by passing in config. \n",
    "sweep_id = wandb.sweep(sweep=sweep_configuration, project='local-sweep')\n",
    "#wandb.log({\"seed\": seed})\n",
    "# TODO: report seed to wandb"
   ]
  }
 ],
 "metadata": {
  "kernelspec": {
   "display_name": ".venv",
   "language": "python",
   "name": "python3"
  },
  "language_info": {
   "codemirror_mode": {
    "name": "ipython",
    "version": 3
   },
   "file_extension": ".py",
   "mimetype": "text/x-python",
   "name": "python",
   "nbconvert_exporter": "python",
   "pygments_lexer": "ipython3",
   "version": "3.10.7"
  },
  "orig_nbformat": 4
 },
 "nbformat": 4,
 "nbformat_minor": 2
}

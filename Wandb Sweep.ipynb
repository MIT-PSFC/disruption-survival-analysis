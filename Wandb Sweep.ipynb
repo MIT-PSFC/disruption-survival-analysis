{
 "cells": [
  {
   "cell_type": "code",
   "execution_count": 1,
   "metadata": {},
   "outputs": [
    {
     "name": "stderr",
     "output_type": "stream",
     "text": [
      "Failed to detect the name of this notebook, you can set it manually with the WANDB_NOTEBOOK_NAME environment variable to enable code saving.\n"
     ]
    },
    {
     "name": "stdout",
     "output_type": "stream",
     "text": [
      "Create sweep with ID: k7y4brpv\n",
      "Sweep URL: https://wandb.ai/z-team/local-sweep/sweeps/k7y4brpv\n"
     ]
    }
   ],
   "source": [
    "import wandb\n",
    "import yaml\n",
    "#import random\n",
    "\n",
    "device = 'cmod'\n",
    "dataset_path = 'random_flattop_256_shots_60%_disruptive'\n",
    "model = 'cph'\n",
    "evaluation_method = 'timeslice_ibs'\n",
    "\n",
    "name = device + '-' + dataset_path + '-' + model + '-' + evaluation_method\n",
    "\n",
    "sweep_config_file = f'wandb_configs/{model}_config.yaml'\n",
    "\n",
    "with open(sweep_config_file, 'r') as f:\n",
    "    sweep_config = yaml.safe_load(f)\n",
    "\n",
    "# Initialize sweep by passing in config. \n",
    "sweep_id = wandb.sweep(sweep=sweep_config, project='local-sweep')\n",
    "#wandb.log({\"seed\": seed})\n",
    "# TODO: report seed to wandb"
   ]
  },
  {
   "cell_type": "code",
   "execution_count": 2,
   "metadata": {},
   "outputs": [
    {
     "name": "stdout",
     "output_type": "stream",
     "text": [
      "wandb: Agent Starting Run: omq1jqzk with config:\n",
      "\tl2: 1.4291732008862768e-05\n",
      "\tnumval: 17\n",
      "\tvalmax: 0.9914504106338512\n",
      "\tvalmin: 0.3779522875617455\n",
      "wandb: Agent Starting Run: dsdjjx9a with config:\n",
      "\tl2: 0.00013876241197033343\n",
      "\tnumval: 4\n",
      "\tvalmax: 0.957872459873822\n",
      "\tvalmin: 0.08848442093503653\n",
      "wandb: Agent Starting Run: l0pvon8k with config:\n",
      "\tl2: 0.00011071330552671114\n",
      "\tnumval: 12\n",
      "\tvalmax: 0.7724041551189933\n",
      "\tvalmin: 0.07724678215274561\n"
     ]
    },
    {
     "name": "stderr",
     "output_type": "stream",
     "text": [
      "2023-07-27 20:04:11,434 - wandb.wandb_agent - ERROR - Detected 3 failed runs in the first 60 seconds, shutting down.\n"
     ]
    }
   ],
   "source": [
    "wandb.agent(sweep_id)"
   ]
  }
 ],
 "metadata": {
  "kernelspec": {
   "display_name": ".venv",
   "language": "python",
   "name": "python3"
  },
  "language_info": {
   "codemirror_mode": {
    "name": "ipython",
    "version": 3
   },
   "file_extension": ".py",
   "mimetype": "text/x-python",
   "name": "python",
   "nbconvert_exporter": "python",
   "pygments_lexer": "ipython3",
   "version": "3.10.7"
  },
  "orig_nbformat": 4
 },
 "nbformat": 4,
 "nbformat_minor": 2
}

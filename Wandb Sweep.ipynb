{
 "cells": [
  {
   "cell_type": "code",
   "execution_count": 3,
   "metadata": {},
   "outputs": [
    {
     "name": "stderr",
     "output_type": "stream",
     "text": [
      "Failed to detect the name of this notebook, you can set it manually with the WANDB_NOTEBOOK_NAME environment variable to enable code saving.\n"
     ]
    },
    {
     "name": "stdout",
     "output_type": "stream",
     "text": [
      "Create sweep with ID: zr0kcu7y\n",
      "Sweep URL: https://wandb.ai/z-team/local-sweep/sweeps/zr0kcu7y\n"
     ]
    }
   ],
   "source": [
    "import wandb\n",
    "import yaml\n",
    "#import random\n",
    "\n",
    "device = 'cmod'\n",
    "dataset_path = 'random_flattop_256_shots_60%_disruptive'\n",
    "model = 'cph'\n",
    "evaluation_method = 'timeslice_ibs'\n",
    "\n",
    "name = device + '-' + dataset_path + '-' + model + '-' + evaluation_method\n",
    "\n",
    "sweep_config_file = f'wandb_configs/{model}_config.yaml'\n",
    "\n",
    "with open(sweep_config_file, 'r') as f:\n",
    "    sweep_config = yaml.safe_load(f)\n",
    "\n",
    "# Initialize sweep by passing in config. \n",
    "sweep_id = wandb.sweep(sweep=sweep_config, project='local-sweep')\n",
    "#wandb.log({\"seed\": seed})\n",
    "# TODO: report seed to wandb"
   ]
  },
  {
   "cell_type": "code",
   "execution_count": null,
   "metadata": {},
   "outputs": [
    {
     "name": "stdout",
     "output_type": "stream",
     "text": [
      "wandb: Agent Starting Run: 8g7u7kvd with config:\n",
      "\tl2: 2.029931679951877e-05\n",
      "\tnumval: 23\n",
      "\tvalmax: 0.703987188111084\n",
      "\tvalmin: 0.0014150623438618838\n"
     ]
    }
   ],
   "source": [
    "wandb.agent(sweep_id)"
   ]
  },
  {
   "cell_type": "code",
   "execution_count": null,
   "metadata": {},
   "outputs": [],
   "source": []
  }
 ],
 "metadata": {
  "kernelspec": {
   "display_name": ".venv",
   "language": "python",
   "name": "python3"
  },
  "language_info": {
   "codemirror_mode": {
    "name": "ipython",
    "version": 3
   },
   "file_extension": ".py",
   "mimetype": "text/x-python",
   "name": "python",
   "nbconvert_exporter": "python",
   "pygments_lexer": "ipython3",
   "version": "3.10.7"
  },
  "orig_nbformat": 4
 },
 "nbformat": 4,
 "nbformat_minor": 2
}

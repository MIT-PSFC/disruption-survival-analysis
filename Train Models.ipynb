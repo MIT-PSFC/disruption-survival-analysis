{
 "cells": [
  {
   "cell_type": "code",
   "execution_count": 1,
   "metadata": {},
   "outputs": [],
   "source": [
    "%load_ext autoreload\n",
    "%autoreload 2\n",
    "from manage_datasets import load_features_outcomes, load_features_labels, make_training_sets, make_stacked_sets, load_feature_list\n",
    "from model_utils import make_survival_model, save_model\n",
    "import yaml\n",
    "\n",
    "device = 'cmod'\n",
    "#dataset_path = 'random_2000_shots_50%_flattop'\n",
    "#dataset_path = 'no_ufo_flattop_1452_shots_50%_disruptive'\n",
    "#dataset_path = 'random_flattop_256_shots_60%_disruptive'\n",
    "dataset_path = 'no_ufo_flattop_7736_shots_6%_disruptive'\n",
    "\n",
    "# Make training sets if they haven't been created yet\n",
    "try:\n",
    "    numeric_feats = load_feature_list(device, dataset_path)\n",
    "except:\n",
    "    make_training_sets(device, dataset_path, random_seed=0)\n",
    "    numeric_feats = load_feature_list(device, dataset_path)\n",
    "    "
   ]
  },
  {
   "cell_type": "code",
   "execution_count": 3,
   "metadata": {},
   "outputs": [],
   "source": [
    "# Load training, test, validation sets\n",
    "x_train, y_train = load_features_outcomes(device, dataset_path, 'train', numeric_feats)\n",
    "x_val, y_val = load_features_outcomes(device, dataset_path, 'val', numeric_feats)\n",
    "\n",
    "# Create labels for binary classifier models according to the disruptive window\n",
    "disruptive_window = 0.4 # seconds before disruption labeled as 'disruptive'\n",
    "_, labels_train = load_features_labels(device, dataset_path, 'train', disruptive_window, numeric_feats)\n",
    "_, labels_val = load_features_labels(device, dataset_path, 'val', disruptive_window, numeric_feats)"
   ]
  },
  {
   "cell_type": "code",
   "execution_count": 9,
   "metadata": {},
   "outputs": [
    {
     "name": "stdout",
     "output_type": "stream",
     "text": [
      "Saved model to models/cmod/no_ufo_flattop_7736_shots_6%_disruptive/cph.pkl\n"
     ]
    },
    {
     "name": "stderr",
     "output_type": "stream",
     "text": [
      "  4%|▍         | 416/10000 [00:01<00:38, 250.64it/s]\n",
      " 36%|███▌      | 18/50 [00:24<00:44,  1.39s/it]"
     ]
    },
    {
     "name": "stdout",
     "output_type": "stream",
     "text": [
      "Saved model to models/cmod/no_ufo_flattop_7736_shots_6%_disruptive/dsm.pkl\n"
     ]
    },
    {
     "name": "stderr",
     "output_type": "stream",
     "text": [
      "\n"
     ]
    }
   ],
   "source": [
    "# Retrain the best found models for this dataset\n",
    "model_strings = ['cph', 'dsm']\n",
    "\n",
    "for model_string in model_strings:\n",
    "    with open(f\"models/{device}/{dataset_path}/{model_string}.yaml\", 'r') as stream:\n",
    "        config = yaml.safe_load(stream)\n",
    "        for key, value in config.items():\n",
    "            # Check if value is not an integer\n",
    "            if not isinstance(value, int):\n",
    "                config[key] = value['value']\n",
    "\n",
    "    model = make_survival_model(config)\n",
    "    model.fit(x_train, y_train)\n",
    "    save_model(model, model_string, device, dataset_path, numeric_feats)"
   ]
  },
  {
   "cell_type": "code",
   "execution_count": 14,
   "metadata": {},
   "outputs": [
    {
     "name": "stdout",
     "output_type": "stream",
     "text": [
      "Saved model to models/cmod/no_ufo_flattop_1452_shots_50%_disruptive/dprf_400_ms.pkl\n"
     ]
    }
   ],
   "source": [
    "# Train a random forest model and save it\n",
    "dprf_model = run_rf_model(x_train, x_val, labels_train, labels_val)\n",
    "save_model(dprf_model, transformer, f'dprf_{int(disruptive_window*1000)}_ms', device, dataset_path, numeric_feats)"
   ]
  },
  {
   "cell_type": "code",
   "execution_count": 7,
   "metadata": {},
   "outputs": [
    {
     "name": "stderr",
     "output_type": "stream",
     "text": [
      "100%|██████████| 50/50 [00:12<00:00,  4.16it/s]\n",
      "100%|██████████| 50/50 [00:12<00:00,  4.16it/s]\n",
      "100%|██████████| 50/50 [00:16<00:00,  2.99it/s]\n",
      "c:\\Users\\zkeith\\Documents\\Risk-Aware Frameworks\\disruption-survival-analysis\\.venv\\lib\\site-packages\\sksurv\\linear_model\\coxph.py:127: RuntimeWarning: overflow encountered in power\n",
      "  y=np.power(self.baseline_survival_.y, risk_score[i]))\n"
     ]
    },
    {
     "name": "stdout",
     "output_type": "stream",
     "text": [
      "Error in fitting model for parameters: {'bs': 50, 'epochs': 50, 'layers': [100, 100], 'learning_rate': 0.001}\n"
     ]
    },
    {
     "name": "stderr",
     "output_type": "stream",
     "text": [
      "100%|██████████| 50/50 [00:16<00:00,  2.97it/s]\n",
      "c:\\Users\\zkeith\\Documents\\Risk-Aware Frameworks\\disruption-survival-analysis\\.venv\\lib\\site-packages\\sksurv\\linear_model\\coxph.py:127: RuntimeWarning: overflow encountered in power\n",
      "  y=np.power(self.baseline_survival_.y, risk_score[i]))\n"
     ]
    },
    {
     "name": "stdout",
     "output_type": "stream",
     "text": [
      "Error in fitting model for parameters: {'bs': 50, 'epochs': 50, 'layers': [100, 100], 'learning_rate': 0.0001}\n"
     ]
    },
    {
     "name": "stderr",
     "output_type": "stream",
     "text": [
      "100%|██████████| 50/50 [00:12<00:00,  4.12it/s]\n",
      "100%|██████████| 50/50 [00:12<00:00,  4.15it/s]\n",
      "100%|██████████| 50/50 [00:16<00:00,  2.97it/s]\n",
      "c:\\Users\\zkeith\\Documents\\Risk-Aware Frameworks\\disruption-survival-analysis\\.venv\\lib\\site-packages\\sksurv\\linear_model\\coxph.py:127: RuntimeWarning: overflow encountered in power\n",
      "  y=np.power(self.baseline_survival_.y, risk_score[i]))\n"
     ]
    },
    {
     "name": "stdout",
     "output_type": "stream",
     "text": [
      "Error in fitting model for parameters: {'bs': 100, 'epochs': 50, 'layers': [100, 100], 'learning_rate': 0.001}\n"
     ]
    },
    {
     "name": "stderr",
     "output_type": "stream",
     "text": [
      "100%|██████████| 50/50 [00:16<00:00,  2.96it/s]\n",
      "c:\\Users\\zkeith\\Documents\\Risk-Aware Frameworks\\disruption-survival-analysis\\.venv\\lib\\site-packages\\sksurv\\linear_model\\coxph.py:127: RuntimeWarning: overflow encountered in power\n",
      "  y=np.power(self.baseline_survival_.y, risk_score[i]))\n"
     ]
    },
    {
     "name": "stdout",
     "output_type": "stream",
     "text": [
      "Error in fitting model for parameters: {'bs': 100, 'epochs': 50, 'layers': [100, 100], 'learning_rate': 0.0001}\n",
      "Saved model to models/cmod/no_ufo_flattop_1452_shots_50%_disruptive/stack_2/dcph.pkl\n"
     ]
    }
   ],
   "source": [
    "# Train a dcph model and save it\n",
    "dcph_model = run_survival_model('dcph', x_train, x_val, outcomes_train, outcomes_val)\n",
    "save_model(dcph_model, transformer, 'dcph', device, dataset_path, numeric_feats)"
   ]
  },
  {
   "cell_type": "code",
   "execution_count": null,
   "metadata": {},
   "outputs": [
    {
     "name": "stdout",
     "output_type": "stream",
     "text": [
      "Saved model to models/rsf_cmod_random_256_shots_60%_flattop.pkl\n"
     ]
    }
   ],
   "source": [
    "# Train a random survival forest model and save it\n",
    "#rsf_model = run_survival_model('rsf', x_train, x_val, outcomes_train, outcomes_val)\n",
    "#save_model(rsf_model, transformer, 'rsf', device, dataset_path, numeric_feats)\n"
   ]
  },
  {
   "cell_type": "code",
   "execution_count": 8,
   "metadata": {},
   "outputs": [],
   "source": [
    "%%capture --no-display\n",
    "# Train a dsm model and save it\n",
    "dsm_model = run_survival_model('dsm', x_train, x_val, outcomes_train, outcomes_val)\n",
    "save_model(dsm_model, transformer, 'dsm', device, dataset_path, numeric_feats)"
   ]
  },
  {
   "cell_type": "code",
   "execution_count": 3,
   "metadata": {},
   "outputs": [
    {
     "ename": "",
     "evalue": "",
     "output_type": "error",
     "traceback": [
      "\u001b[1;31mCannot execute code, session has been disposed. Please try restarting the Kernel."
     ]
    },
    {
     "ename": "",
     "evalue": "",
     "output_type": "error",
     "traceback": [
      "\u001b[1;31mThe Kernel crashed while executing code in the the current cell or a previous cell. Please review the code in the cell(s) to identify a possible cause of the failure. Click <a href='https://aka.ms/vscodeJupyterKernelCrash'>here</a> for more info. View Jupyter <a href='command:jupyter.viewOutput'>log</a> for further details."
     ]
    }
   ],
   "source": [
    "%%capture --no-display\n",
    "# Train a dcm model and save it\n",
    "dcm_model = run_survival_model('dcm', x_train, x_val, outcomes_train, outcomes_val)\n",
    "save_model(dcm_model, transformer, 'dcm', device, dataset_path, numeric_feats)"
   ]
  },
  {
   "cell_type": "code",
   "execution_count": null,
   "metadata": {},
   "outputs": [],
   "source": [
    "# Train a temporal cph model and save it\n",
    "#k = 10\n",
    "##x_train_temporal, outcomes_train_temporal = stack_features(x_train, outcomes_train, k)\n",
    "#x_val_temporal, outcomes_val_temporal = stack_features(x_val, outcomes_val, k)\n",
    "#cph_temporal_model = run_survival_model('cph', x_train_temporal, x_val_temporal, outcomes_train_temporal, outcomes_val_temporal, selection=selection)\n",
    "#save_model(cph_temporal_model, transformer, f'cph_temporal_{k}k', device, dataset)"
   ]
  },
  {
   "cell_type": "code",
   "execution_count": 2,
   "metadata": {},
   "outputs": [],
   "source": [
    "# Make a temporal dataset\n",
    "stack_size = 2\n",
    "make_stacked_sets(device, dataset_path, 'train', stack_size)\n",
    "make_stacked_sets(device, dataset_path, 'test', stack_size)\n",
    "make_stacked_sets(device, dataset_path, 'val', stack_size)"
   ]
  }
 ],
 "metadata": {
  "kernelspec": {
   "display_name": ".venv",
   "language": "python",
   "name": "python3"
  },
  "language_info": {
   "codemirror_mode": {
    "name": "ipython",
    "version": 3
   },
   "file_extension": ".py",
   "mimetype": "text/x-python",
   "name": "python",
   "nbconvert_exporter": "python",
   "pygments_lexer": "ipython3",
   "version": "3.10.7"
  },
  "orig_nbformat": 4
 },
 "nbformat": 4,
 "nbformat_minor": 2
}

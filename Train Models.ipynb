{
 "cells": [
  {
   "cell_type": "code",
   "execution_count": 2,
   "metadata": {},
   "outputs": [
    {
     "name": "stdout",
     "output_type": "stream",
     "text": [
      "The autoreload extension is already loaded. To reload it, use:\n",
      "  %reload_ext autoreload\n",
      "Training shots: 19\n",
      "Test shots: 6\n",
      "Validation shots: 7\n"
     ]
    }
   ],
   "source": [
    "%load_ext autoreload\n",
    "%autoreload 2\n",
    "import pandas as pd\n",
    "from plot_utils import *\n",
    "from preprocess_datasets import load_features_outcomes, load_features_labels, make_training_sets, DEFAULT_FEATURES\n",
    "from run_models import run_survival_model, run_rf_model, eval_model, save_model, load_model\n",
    "\n",
    "# Make training sets if they haven't been created yet\n",
    "\n",
    "device = 'cmod'\n",
    "dataset = 'random32'\n",
    "#numeric_feats = ['ip', 'n_e', 'aminor', 'kappa', 'squareness', 'delta', 'li', 'Wmhd']\n",
    "numeric_feats = DEFAULT_FEATURES\n",
    "\n",
    "# TODO: list disruptive vs non-disruptive shots in each dataset\n",
    "make_training_sets(device, dataset)"
   ]
  },
  {
   "cell_type": "code",
   "execution_count": 3,
   "metadata": {},
   "outputs": [],
   "source": [
    "from auton_survival.preprocessing import Preprocessor\n",
    "# Load and preprocess training, test, validation sets\n",
    "features_train, outcomes_train = load_features_outcomes(device, dataset+'_train', features=numeric_feats)\n",
    "features_test, outcomes_test = load_features_outcomes(device, dataset+'_test', features=numeric_feats)\n",
    "features_val, outcomes_val = load_features_outcomes(device, dataset+'_val', features=numeric_feats)\n",
    "\n",
    "# The features should match the above\n",
    "_, labels_train = load_features_labels(device, dataset+'_train', 0.15)\n",
    "_, labels_test = load_features_labels(device, dataset+'_test', 0.15)\n",
    "_, labels_val = load_features_labels(device, dataset+'_val', 0.15)\n",
    "\n",
    "# Fit the imputer and scaler to the training data and transform the training, test, and validation data\n",
    "preprocessor = Preprocessor(cat_feat_strat='ignore', num_feat_strat='mean')\n",
    "transformer=preprocessor.fit(features_train, cat_feats=[], num_feats=numeric_feats, one_hot=True, fill_value=-1)\n",
    "\n",
    "x_train = transformer.transform(features_train)\n",
    "x_test = transformer.transform(features_test)\n",
    "x_val = transformer.transform(features_val)\n"
   ]
  },
  {
   "cell_type": "code",
   "execution_count": 4,
   "metadata": {},
   "outputs": [
    {
     "name": "stdout",
     "output_type": "stream",
     "text": [
      "Saved model to models/cph_cmod_random32.pkl\n"
     ]
    }
   ],
   "source": [
    "# Train a cph model and save it\n",
    "cph_model = run_survival_model('cph', x_train, x_val, outcomes_train, outcomes_val)\n",
    "save_model(cph_model, transformer, 'cph', device, dataset)"
   ]
  },
  {
   "cell_type": "code",
   "execution_count": 5,
   "metadata": {},
   "outputs": [
    {
     "name": "stdout",
     "output_type": "stream",
     "text": [
      "Saved model to models/rf_cmod_random32.pkl\n"
     ]
    }
   ],
   "source": [
    "# Train a random forest model and save it\n",
    "rf_model = run_rf_model(x_train, x_val, labels_train, labels_val)\n",
    "save_model(rf_model, transformer, 'rf', device, dataset)"
   ]
  },
  {
   "cell_type": "code",
   "execution_count": 6,
   "metadata": {},
   "outputs": [
    {
     "name": "stderr",
     "output_type": "stream",
     "text": [
      "100%|██████████| 50/50 [00:00<00:00, 74.96it/s]\n"
     ]
    },
    {
     "name": "stdout",
     "output_type": "stream",
     "text": [
      "Error in fitting model for parameters: {'bs': 100, 'layers': [100], 'learning_rate': 0.0001}\n"
     ]
    },
    {
     "name": "stderr",
     "output_type": "stream",
     "text": [
      "100%|██████████| 50/50 [00:00<00:00, 91.10it/s]\n"
     ]
    },
    {
     "name": "stdout",
     "output_type": "stream",
     "text": [
      "Error in fitting model for parameters: {'bs': 100, 'layers': [100], 'learning_rate': 0.001}\n"
     ]
    },
    {
     "name": "stderr",
     "output_type": "stream",
     "text": [
      "100%|██████████| 50/50 [00:00<00:00, 58.72it/s]\n"
     ]
    },
    {
     "name": "stdout",
     "output_type": "stream",
     "text": [
      "Error in fitting model for parameters: {'bs': 100, 'layers': [100, 100], 'learning_rate': 0.0001}\n"
     ]
    },
    {
     "name": "stderr",
     "output_type": "stream",
     "text": [
      "100%|██████████| 50/50 [00:00<00:00, 57.65it/s]\n"
     ]
    },
    {
     "name": "stdout",
     "output_type": "stream",
     "text": [
      "Error in fitting model for parameters: {'bs': 100, 'layers': [100, 100], 'learning_rate': 0.001}\n"
     ]
    },
    {
     "name": "stderr",
     "output_type": "stream",
     "text": [
      "100%|██████████| 50/50 [00:00<00:00, 89.93it/s]\n"
     ]
    },
    {
     "name": "stdout",
     "output_type": "stream",
     "text": [
      "Error in fitting model for parameters: {'bs': 200, 'layers': [100], 'learning_rate': 0.0001}\n"
     ]
    },
    {
     "name": "stderr",
     "output_type": "stream",
     "text": [
      "100%|██████████| 50/50 [00:00<00:00, 88.38it/s]\n"
     ]
    },
    {
     "name": "stdout",
     "output_type": "stream",
     "text": [
      "Error in fitting model for parameters: {'bs': 200, 'layers': [100], 'learning_rate': 0.001}\n"
     ]
    },
    {
     "name": "stderr",
     "output_type": "stream",
     "text": [
      "100%|██████████| 50/50 [00:00<00:00, 58.84it/s]\n"
     ]
    },
    {
     "name": "stdout",
     "output_type": "stream",
     "text": [
      "Error in fitting model for parameters: {'bs': 200, 'layers': [100, 100], 'learning_rate': 0.0001}\n"
     ]
    },
    {
     "name": "stderr",
     "output_type": "stream",
     "text": [
      "100%|██████████| 50/50 [00:00<00:00, 58.85it/s]"
     ]
    },
    {
     "name": "stdout",
     "output_type": "stream",
     "text": [
      "Error in fitting model for parameters: {'bs': 200, 'layers': [100, 100], 'learning_rate': 0.001}\n"
     ]
    },
    {
     "name": "stderr",
     "output_type": "stream",
     "text": [
      "\n"
     ]
    },
    {
     "ename": "ValueError",
     "evalue": "No models trained for dcph",
     "output_type": "error",
     "traceback": [
      "\u001b[1;31m---------------------------------------------------------------------------\u001b[0m",
      "\u001b[1;31mValueError\u001b[0m                                Traceback (most recent call last)",
      "Cell \u001b[1;32mIn[6], line 2\u001b[0m\n\u001b[0;32m      1\u001b[0m \u001b[39m# Train a dcph model and save it\u001b[39;00m\n\u001b[1;32m----> 2\u001b[0m dcph_model \u001b[39m=\u001b[39m run_survival_model(\u001b[39m'\u001b[39;49m\u001b[39mdcph\u001b[39;49m\u001b[39m'\u001b[39;49m, x_train, x_val, outcomes_train, outcomes_val)\n\u001b[0;32m      3\u001b[0m save_model(dcph_model, transformer, \u001b[39m'\u001b[39m\u001b[39mdcph\u001b[39m\u001b[39m'\u001b[39m, device, dataset)\n",
      "File \u001b[1;32mc:\\Users\\zkeith\\Documents\\Risk-Aware Frameworks\\disruption-survival-analysis\\run_models.py:123\u001b[0m, in \u001b[0;36mrun_survival_model\u001b[1;34m(model_string, x_tr, x_val, y_tr, y_val)\u001b[0m\n\u001b[0;32m    118\u001b[0m         \u001b[39mprint\u001b[39m(\u001b[39mf\u001b[39m\u001b[39m\"\u001b[39m\u001b[39mError in fitting model for parameters: \u001b[39m\u001b[39m{\u001b[39;00mparam\u001b[39m}\u001b[39;00m\u001b[39m\"\u001b[39m)\n\u001b[0;32m    122\u001b[0m \u001b[39mif\u001b[39;00m \u001b[39mlen\u001b[39m(models) \u001b[39m==\u001b[39m \u001b[39m0\u001b[39m:\n\u001b[1;32m--> 123\u001b[0m     \u001b[39mraise\u001b[39;00m \u001b[39mValueError\u001b[39;00m(\u001b[39mf\u001b[39m\u001b[39m\"\u001b[39m\u001b[39mNo models trained for \u001b[39m\u001b[39m{\u001b[39;00mmodel_string\u001b[39m}\u001b[39;00m\u001b[39m\"\u001b[39m)\n\u001b[0;32m    125\u001b[0m \u001b[39m# Select the best model based on the mean metric value computed for the validation set\u001b[39;00m\n\u001b[0;32m    126\u001b[0m metric_vals \u001b[39m=\u001b[39m [i[\u001b[39m0\u001b[39m] \u001b[39mfor\u001b[39;00m i \u001b[39min\u001b[39;00m models]\n",
      "\u001b[1;31mValueError\u001b[0m: No models trained for dcph"
     ]
    }
   ],
   "source": [
    "# Train a dcph model and save it\n",
    "dcph_model = run_survival_model('dcph', x_train, x_val, outcomes_train, outcomes_val)\n",
    "save_model(dcph_model, transformer, 'dcph', device, dataset)"
   ]
  },
  {
   "cell_type": "code",
   "execution_count": 7,
   "metadata": {},
   "outputs": [
    {
     "name": "stdout",
     "output_type": "stream",
     "text": [
      "Saved model to models/rsf_cmod_random32.pkl\n"
     ]
    }
   ],
   "source": [
    "# Train a random survival forest model and save it\n",
    "rsf_model = run_survival_model('rsf', x_train, x_val, outcomes_train, outcomes_val)\n",
    "save_model(rsf_model, transformer, 'rsf', device, dataset)\n"
   ]
  },
  {
   "cell_type": "code",
   "execution_count": 33,
   "metadata": {},
   "outputs": [],
   "source": [
    "%%capture --no-display\n",
    "# Train a dsm model and save it\n",
    "dsm_model = run_survival_model('dsm', x_train, x_val, outcomes_train, outcomes_val)\n",
    "save_model(dsm_model, transformer, 'dsm', device, dataset)"
   ]
  },
  {
   "cell_type": "code",
   "execution_count": 36,
   "metadata": {},
   "outputs": [
    {
     "name": "stderr",
     "output_type": "stream",
     "text": [
      "WARNING:root:Couldn't fit splines, reusing from previous epoch\n",
      "WARNING:root:Couldn't fit splines, reusing from previous epoch\n",
      "WARNING:root:Couldn't fit splines, reusing from previous epoch\n",
      "WARNING:root:Couldn't fit splines, reusing from previous epoch\n",
      "WARNING:root:Couldn't fit splines, reusing from previous epoch\n",
      "WARNING:root:Couldn't fit splines, reusing from previous epoch\n",
      "WARNING:root:Couldn't fit splines, reusing from previous epoch\n",
      "WARNING:root:Couldn't fit splines, reusing from previous epoch\n",
      "WARNING:root:Couldn't fit splines, reusing from previous epoch\n",
      "WARNING:root:Couldn't fit splines, reusing from previous epoch\n",
      "WARNING:root:Couldn't fit splines, reusing from previous epoch\n",
      "WARNING:root:Couldn't fit splines, reusing from previous epoch\n",
      "WARNING:root:Couldn't fit splines, reusing from previous epoch\n"
     ]
    }
   ],
   "source": [
    "%%capture --no-display\n",
    "# Train a dcm model and save it\n",
    "dcm_model = run_survival_model('dcm', x_train, x_val, outcomes_train, outcomes_val)\n",
    "save_model(dcm_model, transformer, 'dcm', device, dataset)"
   ]
  },
  {
   "cell_type": "code",
   "execution_count": 8,
   "metadata": {},
   "outputs": [
    {
     "name": "stdout",
     "output_type": "stream",
     "text": [
      "Loaded model from models/cph_cmod_random100.pkl\n"
     ]
    }
   ],
   "source": [
    "# Load a model\n",
    "cph_model = load_model('cph', device, dataset)"
   ]
  }
 ],
 "metadata": {
  "kernelspec": {
   "display_name": ".venv",
   "language": "python",
   "name": "python3"
  },
  "language_info": {
   "codemirror_mode": {
    "name": "ipython",
    "version": 3
   },
   "file_extension": ".py",
   "mimetype": "text/x-python",
   "name": "python",
   "nbconvert_exporter": "python",
   "pygments_lexer": "ipython3",
   "version": "3.10.7"
  },
  "orig_nbformat": 4
 },
 "nbformat": 4,
 "nbformat_minor": 2
}

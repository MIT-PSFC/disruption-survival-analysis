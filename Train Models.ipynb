{
 "cells": [
  {
   "cell_type": "code",
   "execution_count": 1,
   "metadata": {},
   "outputs": [],
   "source": [
    "%load_ext autoreload\n",
    "%autoreload 2\n",
    "from manage_datasets import load_features_outcomes, load_features_labels, make_training_sets, make_stacked_sets, load_feature_list\n",
    "from model_utils import make_model, save_model\n",
    "import yaml\n",
    "\n",
    "device = 'cmod'\n",
    "#dataset_path = 'random_2000_shots_50%_flattop'\n",
    "#dataset_path = 'no_ufo_flattop_1452_shots_50%_disruptive'\n",
    "dataset_path = 'random_flattop_256_shots_60%_disruptive'\n",
    "#dataset_path = 'no_ufo_flattop_7736_shots_6%_disruptive'\n",
    "\n",
    "# Make training sets if they haven't been created yet\n",
    "try:\n",
    "    numeric_feats = load_feature_list(device, dataset_path)\n",
    "except:\n",
    "    make_training_sets(device, dataset_path, random_seed=0)\n",
    "    numeric_feats = load_feature_list(device, dataset_path)\n",
    "    "
   ]
  },
  {
   "cell_type": "code",
   "execution_count": 2,
   "metadata": {},
   "outputs": [],
   "source": [
    "# Load training, test, validation sets\n",
    "x_train, y_train = load_features_outcomes(device, dataset_path, 'train', numeric_feats)\n",
    "x_val, y_val = load_features_outcomes(device, dataset_path, 'val', numeric_feats)"
   ]
  },
  {
   "cell_type": "code",
   "execution_count": 4,
   "metadata": {},
   "outputs": [
    {
     "name": "stdout",
     "output_type": "stream",
     "text": [
      "Saved model to models/cmod/random_flattop_256_shots_60%_disruptive/cph.pkl\n"
     ]
    }
   ],
   "source": [
    "# Retrain the best found models for this dataset\n",
    "model_strings = ['cph']\n",
    "\n",
    "for model_string in model_strings:\n",
    "    with open(f\"models/{device}/{dataset_path}/{model_string}.yaml\", 'r') as stream:\n",
    "        config = yaml.safe_load(stream)\n",
    "        for key, value in config.items():\n",
    "            # Check if value is not an integer\n",
    "            if not isinstance(value, int):\n",
    "                config[key] = value['value']\n",
    "\n",
    "    model = make_model(config)\n",
    "\n",
    "    # Check if model is a binary classifier\n",
    "    if config['model_type'] == 'rf':\n",
    "        # Check if model is a binary classifier\n",
    "        disruptive_window = config['disruptive_window']\n",
    "        _, labels_train = load_features_labels(device, dataset_path, 'train', disruptive_window, numeric_feats)\n",
    "        _, labels_val = load_features_labels(device, dataset_path, 'val', disruptive_window, numeric_feats)\n",
    "\n",
    "        model.fit(x_train, labels_train)\n",
    "    else:\n",
    "        model.fit(x_train, y_train)\n",
    "    save_model(model, model_string, device, dataset_path, numeric_feats)"
   ]
  },
  {
   "cell_type": "code",
   "execution_count": 2,
   "metadata": {},
   "outputs": [],
   "source": [
    "# Make a temporal dataset\n",
    "stack_size = 2\n",
    "make_stacked_sets(device, dataset_path, 'train', stack_size)\n",
    "make_stacked_sets(device, dataset_path, 'test', stack_size)\n",
    "make_stacked_sets(device, dataset_path, 'val', stack_size)"
   ]
  }
 ],
 "metadata": {
  "kernelspec": {
   "display_name": ".venv",
   "language": "python",
   "name": "python3"
  },
  "language_info": {
   "codemirror_mode": {
    "name": "ipython",
    "version": 3
   },
   "file_extension": ".py",
   "mimetype": "text/x-python",
   "name": "python",
   "nbconvert_exporter": "python",
   "pygments_lexer": "ipython3",
   "version": "3.10.7"
  },
  "orig_nbformat": 4
 },
 "nbformat": 4,
 "nbformat_minor": 2
}

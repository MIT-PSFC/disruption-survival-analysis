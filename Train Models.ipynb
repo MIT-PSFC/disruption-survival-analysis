{
 "cells": [
  {
   "cell_type": "code",
   "execution_count": 1,
   "metadata": {},
   "outputs": [
    {
     "name": "stdout",
     "output_type": "stream",
     "text": [
      "Training shots: 152\n",
      "Test shots: 51\n",
      "Validation shots: 51\n"
     ]
    }
   ],
   "source": [
    "%load_ext autoreload\n",
    "%autoreload 2\n",
    "import pandas as pd\n",
    "from plot_utils import *\n",
    "from preprocess_datasets import load_features_outcomes, load_features_labels, make_training_sets, DEFAULT_FEATURES\n",
    "from run_models import run_survival_model, run_rf_model, eval_model, save_model, load_model\n",
    "\n",
    "# Make training sets if they haven't been created yet\n",
    "\n",
    "device = 'cmod'\n",
    "#dataset = 'random100'\n",
    "dataset = 'random_256_shots_50%_flattop'\n",
    "selection='1:1'\n",
    "\n",
    "#numeric_feats = ['ip', 'n_e', 'aminor', 'kappa', 'squareness', 'delta', 'li', 'Wmhd']\n",
    "numeric_feats = DEFAULT_FEATURES\n",
    "#temporal_suff = ['_avg', '_std', '_int', '_der']\n",
    "#temporal_feats = [feat + suff for feat in numeric_feats for suff in temporal_suff]\n",
    "\n",
    "# TODO: list disruptive vs non-disruptive shots in each dataset\n",
    "make_training_sets(device, dataset, random_seed=0)"
   ]
  },
  {
   "cell_type": "code",
   "execution_count": 2,
   "metadata": {},
   "outputs": [],
   "source": [
    "from auton_survival.preprocessing import Preprocessor\n",
    "# Load and preprocess training, test, validation sets\n",
    "features_train, outcomes_train = load_features_outcomes(device, dataset+'_train', features=numeric_feats)\n",
    "features_test, outcomes_test = load_features_outcomes(device, dataset+'_test', features=numeric_feats)\n",
    "features_val, outcomes_val = load_features_outcomes(device, dataset+'_val', features=numeric_feats)\n",
    "\n",
    "# The features should match the above\n",
    "_, labels_train = load_features_labels(device, dataset+'_train', 0.15, features=numeric_feats)\n",
    "_, labels_test = load_features_labels(device, dataset+'_test', 0.15, features=numeric_feats)\n",
    "_, labels_val = load_features_labels(device, dataset+'_val', 0.15, features=numeric_feats)\n",
    "\n",
    "# Fit the imputer and scaler to the training data and transform the training, test, and validation data\n",
    "preprocessor = Preprocessor(cat_feat_strat='ignore', num_feat_strat='mean')\n",
    "transformer=preprocessor.fit(features_train, cat_feats=[], num_feats=numeric_feats, one_hot=True, fill_value=-1)\n",
    "\n",
    "x_train = transformer.transform(features_train)\n",
    "x_test = transformer.transform(features_test)\n",
    "x_val = transformer.transform(features_val)\n"
   ]
  },
  {
   "cell_type": "code",
   "execution_count": 3,
   "metadata": {},
   "outputs": [
    {
     "name": "stdout",
     "output_type": "stream",
     "text": [
      "Saved model to models/cph_cmod_random_256_shots_50%_flattop.pkl\n"
     ]
    }
   ],
   "source": [
    "# Train a cph model and save it\n",
    "cph_model = run_survival_model('cph', x_train, x_val, outcomes_train, outcomes_val, selection=selection)\n",
    "save_model(cph_model, transformer, 'cph', device, dataset)"
   ]
  },
  {
   "cell_type": "code",
   "execution_count": 10,
   "metadata": {},
   "outputs": [
    {
     "name": "stdout",
     "output_type": "stream",
     "text": [
      "Saved model to models/rf_temporal_cmod_random_256_shots_50%_flattop.pkl\n"
     ]
    }
   ],
   "source": [
    "# Train a random forest model and save it\n",
    "rf_model = run_rf_model(x_train, x_val, labels_train, labels_val)\n",
    "save_model(rf_model, transformer, 'rf', device, dataset)"
   ]
  },
  {
   "cell_type": "code",
   "execution_count": 4,
   "metadata": {},
   "outputs": [
    {
     "name": "stderr",
     "output_type": "stream",
     "text": [
      "100%|██████████| 50/50 [00:01<00:00, 25.58it/s]\n",
      "100%|██████████| 50/50 [00:01<00:00, 25.91it/s]\n",
      "100%|██████████| 50/50 [00:02<00:00, 24.42it/s]\n",
      "100%|██████████| 50/50 [00:02<00:00, 24.56it/s]\n",
      "100%|██████████| 50/50 [00:01<00:00, 25.56it/s]\n",
      "100%|██████████| 50/50 [00:03<00:00, 15.96it/s]\n",
      "100%|██████████| 50/50 [00:03<00:00, 16.64it/s]\n",
      "100%|██████████| 50/50 [00:02<00:00, 16.79it/s]\n",
      " 70%|███████   | 35/50 [00:02<00:00, 15.91it/s]\n",
      " 78%|███████▊  | 39/50 [00:02<00:00, 14.95it/s]\n",
      "100%|██████████| 50/50 [00:02<00:00, 21.61it/s]\n",
      "100%|██████████| 50/50 [00:02<00:00, 21.54it/s]\n",
      "100%|██████████| 50/50 [00:02<00:00, 22.20it/s]\n",
      "100%|██████████| 50/50 [00:02<00:00, 21.43it/s]\n",
      "100%|██████████| 50/50 [00:02<00:00, 21.04it/s]\n",
      "100%|██████████| 50/50 [00:01<00:00, 25.72it/s]\n",
      "100%|██████████| 50/50 [00:01<00:00, 25.34it/s]\n",
      "100%|██████████| 50/50 [00:02<00:00, 24.89it/s]\n",
      "100%|██████████| 50/50 [00:01<00:00, 25.26it/s]\n",
      "100%|██████████| 50/50 [00:01<00:00, 25.15it/s]\n",
      "100%|██████████| 50/50 [00:03<00:00, 16.59it/s]\n",
      "100%|██████████| 50/50 [00:03<00:00, 16.18it/s]\n",
      "100%|██████████| 50/50 [00:02<00:00, 16.67it/s]\n",
      " 70%|███████   | 35/50 [00:02<00:00, 16.05it/s]\n",
      " 78%|███████▊  | 39/50 [00:02<00:00, 14.95it/s]\n",
      "100%|██████████| 50/50 [00:02<00:00, 22.11it/s]\n",
      "100%|██████████| 50/50 [00:02<00:00, 20.89it/s]\n",
      "100%|██████████| 50/50 [00:02<00:00, 21.69it/s]\n",
      "100%|██████████| 50/50 [00:02<00:00, 21.89it/s]\n",
      "100%|██████████| 50/50 [00:02<00:00, 22.10it/s]\n",
      "100%|██████████| 50/50 [00:01<00:00, 25.02it/s]\n",
      "100%|██████████| 50/50 [00:01<00:00, 25.48it/s]\n",
      "100%|██████████| 50/50 [00:01<00:00, 25.95it/s]\n",
      "100%|██████████| 50/50 [00:01<00:00, 26.05it/s]\n",
      "100%|██████████| 50/50 [00:01<00:00, 25.56it/s]\n",
      "100%|██████████| 50/50 [00:02<00:00, 16.95it/s]\n",
      "100%|██████████| 50/50 [00:02<00:00, 16.96it/s]\n",
      "100%|██████████| 50/50 [00:02<00:00, 17.02it/s]\n",
      " 70%|███████   | 35/50 [00:02<00:00, 16.25it/s]\n",
      " 78%|███████▊  | 39/50 [00:02<00:00, 15.17it/s]\n",
      "100%|██████████| 50/50 [00:02<00:00, 22.37it/s]\n",
      "100%|██████████| 50/50 [00:02<00:00, 22.38it/s]\n",
      "100%|██████████| 50/50 [00:02<00:00, 22.22it/s]\n",
      "100%|██████████| 50/50 [00:02<00:00, 21.26it/s]\n",
      "100%|██████████| 50/50 [00:02<00:00, 22.04it/s]\n",
      "100%|██████████| 50/50 [00:01<00:00, 26.01it/s]\n",
      "100%|██████████| 50/50 [00:01<00:00, 25.34it/s]\n",
      "100%|██████████| 50/50 [00:01<00:00, 25.80it/s]\n",
      "100%|██████████| 50/50 [00:01<00:00, 26.29it/s]\n",
      "100%|██████████| 50/50 [00:01<00:00, 26.54it/s]\n",
      "100%|██████████| 50/50 [00:02<00:00, 17.16it/s]\n",
      "100%|██████████| 50/50 [00:02<00:00, 17.22it/s]\n",
      "100%|██████████| 50/50 [00:02<00:00, 17.38it/s]\n",
      " 70%|███████   | 35/50 [00:02<00:00, 16.55it/s]\n",
      " 78%|███████▊  | 39/50 [00:02<00:00, 15.58it/s]\n",
      "100%|██████████| 50/50 [00:02<00:00, 22.37it/s]\n",
      "100%|██████████| 50/50 [00:02<00:00, 22.00it/s]\n",
      "100%|██████████| 50/50 [00:02<00:00, 22.33it/s]\n",
      "100%|██████████| 50/50 [00:02<00:00, 22.74it/s]\n",
      "100%|██████████| 50/50 [00:02<00:00, 22.42it/s]\n",
      "100%|██████████| 50/50 [00:01<00:00, 26.21it/s]\n",
      "100%|██████████| 50/50 [00:01<00:00, 26.30it/s]\n",
      "100%|██████████| 50/50 [00:01<00:00, 25.75it/s]\n",
      "100%|██████████| 50/50 [00:01<00:00, 25.82it/s]\n",
      "100%|██████████| 50/50 [00:02<00:00, 24.57it/s]\n",
      "100%|██████████| 50/50 [00:02<00:00, 16.85it/s]\n",
      "100%|██████████| 50/50 [00:02<00:00, 16.93it/s]\n",
      "100%|██████████| 50/50 [00:02<00:00, 17.31it/s]\n",
      " 70%|███████   | 35/50 [00:02<00:00, 16.20it/s]\n",
      " 78%|███████▊  | 39/50 [00:02<00:00, 15.93it/s]\n",
      "100%|██████████| 50/50 [00:02<00:00, 21.77it/s]\n",
      "100%|██████████| 50/50 [00:02<00:00, 21.66it/s]\n",
      "100%|██████████| 50/50 [00:02<00:00, 21.94it/s]\n",
      "100%|██████████| 50/50 [00:02<00:00, 22.37it/s]\n",
      "100%|██████████| 50/50 [00:02<00:00, 22.00it/s]\n"
     ]
    },
    {
     "name": "stdout",
     "output_type": "stream",
     "text": [
      "Saved model to models/dcph_cmod_random_256_shots_50%_flattop.pkl\n"
     ]
    }
   ],
   "source": [
    "# Train a dcph model and save it\n",
    "dcph_model = run_survival_model('dcph', x_train, x_val, outcomes_train, outcomes_val, selection=selection)\n",
    "save_model(dcph_model, transformer, 'dcph', device, dataset)"
   ]
  },
  {
   "cell_type": "code",
   "execution_count": 14,
   "metadata": {},
   "outputs": [
    {
     "name": "stdout",
     "output_type": "stream",
     "text": [
      "Error in fitting model for parameters: {'max_depth': 3, 'max_features': 'sqrt', 'n_estimators': 100}\n"
     ]
    }
   ],
   "source": [
    "# Train a random survival forest model and save it\n",
    "rsf_model = run_survival_model('rsf', x_train, x_val, outcomes_train, outcomes_val, selection=selection)\n",
    "save_model(rsf_model, transformer, 'rsf', device, dataset)\n"
   ]
  },
  {
   "cell_type": "code",
   "execution_count": 5,
   "metadata": {},
   "outputs": [],
   "source": [
    "%%capture --no-display\n",
    "# Train a dsm model and save it\n",
    "dsm_model = run_survival_model('dsm', x_train, x_val, outcomes_train, outcomes_val, selection=selection)\n",
    "save_model(dsm_model, transformer, 'dsm', device, dataset)"
   ]
  },
  {
   "cell_type": "code",
   "execution_count": null,
   "metadata": {},
   "outputs": [],
   "source": [
    "%%capture --no-display\n",
    "# Train a dcm model and save it\n",
    "dcm_model = run_survival_model('dcm', x_train, x_val, outcomes_train, outcomes_val, selection=selection)\n",
    "save_model(dcm_model, transformer, 'dcm', device, dataset)"
   ]
  },
  {
   "cell_type": "code",
   "execution_count": 8,
   "metadata": {},
   "outputs": [
    {
     "name": "stdout",
     "output_type": "stream",
     "text": [
      "Loaded model from models/cph_cmod_random100.pkl\n"
     ]
    }
   ],
   "source": [
    "# Load a model\n",
    "cph_model = load_model('cph', device, dataset)"
   ]
  }
 ],
 "metadata": {
  "kernelspec": {
   "display_name": ".venv",
   "language": "python",
   "name": "python3"
  },
  "language_info": {
   "codemirror_mode": {
    "name": "ipython",
    "version": 3
   },
   "file_extension": ".py",
   "mimetype": "text/x-python",
   "name": "python",
   "nbconvert_exporter": "python",
   "pygments_lexer": "ipython3",
   "version": "3.10.7"
  },
  "orig_nbformat": 4
 },
 "nbformat": 4,
 "nbformat_minor": 2
}

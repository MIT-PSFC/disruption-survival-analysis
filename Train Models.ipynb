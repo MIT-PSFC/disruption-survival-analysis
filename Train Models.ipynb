{
 "cells": [
  {
   "cell_type": "code",
   "execution_count": 1,
   "metadata": {},
   "outputs": [],
   "source": [
    "%load_ext autoreload\n",
    "%autoreload 2\n",
    "from manage_datasets import load_features_outcomes, load_features_labels, make_training_sets, make_stacked_sets, load_feature_list\n",
    "from model_utils import make_model, save_model\n",
    "import yaml\n",
    "\n",
    "device = 'cmod'\n",
    "#dataset_path = 'random_2000_shots_50%_flattop'\n",
    "#dataset_path = 'no_ufo_flattop_1452_shots_50%_disruptive'\n",
    "#dataset_path = 'random_flattop_256_shots_60%_disruptive'\n",
    "dataset_path = 'no_ufo_flattop_7736_shots_6%_disruptive'\n",
    "\n",
    "# Make training sets if they haven't been created yet\n",
    "try:\n",
    "    numeric_feats = load_feature_list(device, dataset_path)\n",
    "except:\n",
    "    make_training_sets(device, dataset_path, random_seed=0)\n",
    "    numeric_feats = load_feature_list(device, dataset_path)\n",
    "    "
   ]
  },
  {
   "cell_type": "code",
   "execution_count": 2,
   "metadata": {},
   "outputs": [],
   "source": [
    "# Load training, test, validation sets\n",
    "x_train, y_train = load_features_outcomes(device, dataset_path, 'train', numeric_feats)\n",
    "x_val, y_val = load_features_outcomes(device, dataset_path, 'val', numeric_feats)"
   ]
  },
  {
   "cell_type": "code",
   "execution_count": 3,
   "metadata": {},
   "outputs": [
    {
     "name": "stderr",
     "output_type": "stream",
     "text": [
      "  0%|          | 0/78 [00:00<?, ?it/s]c:\\Users\\zkeith\\Documents\\Risk-Aware Frameworks\\disruption-survival-analysis\\.venv\\lib\\site-packages\\auton_survival\\models\\dcm\\dcm_utilities.py:105: RuntimeWarning: invalid value encountered in log\n",
      "  probs = gates+np.log(event_probs)\n",
      "  4%|▍         | 3/78 [00:12<04:47,  3.83s/it]c:\\Users\\zkeith\\Documents\\Risk-Aware Frameworks\\disruption-survival-analysis\\.venv\\lib\\site-packages\\auton_survival\\models\\dcm\\dcm_utilities.py:105: RuntimeWarning: divide by zero encountered in log\n",
      "  probs = gates+np.log(event_probs)\n",
      " 21%|██        | 16/78 [01:00<04:38,  4.49s/it]c:\\Users\\zkeith\\Documents\\Risk-Aware Frameworks\\disruption-survival-analysis\\.venv\\lib\\site-packages\\auton_survival\\models\\dcm\\dcm_utilities.py:58: RuntimeWarning: invalid value encountered in power\n",
      "  return spl(ts)**risks\n",
      "c:\\Users\\zkeith\\Documents\\Risk-Aware Frameworks\\disruption-survival-analysis\\.venv\\lib\\site-packages\\auton_survival\\models\\dcm\\dcm_utilities.py:53: RuntimeWarning: invalid value encountered in power\n",
      "  s0ts = (-risks)*(spl(ts)**(risks-1))\n",
      " 24%|██▍       | 19/78 [01:16<05:05,  5.17s/it]c:\\Users\\zkeith\\Documents\\Risk-Aware Frameworks\\disruption-survival-analysis\\.venv\\lib\\site-packages\\scipy\\interpolate\\_fitpack2.py:298: UserWarning: \n",
      "The maximal number of iterations maxit (set to 20 by the program)\n",
      "allowed for finding a smoothing spline with fp=s has been reached: s\n",
      "too small.\n",
      "There is an approximation returned but the corresponding weighted sum\n",
      "of squared residuals does not satisfy the condition abs(fp-s)/s < tol.\n",
      "  warnings.warn(message)\n",
      " 31%|███       | 24/78 [01:48<05:37,  6.25s/it]c:\\Users\\zkeith\\Documents\\Risk-Aware Frameworks\\disruption-survival-analysis\\.venv\\lib\\site-packages\\scipy\\interpolate\\_fitpack2.py:298: UserWarning: \n",
      "A theoretically impossible result was found during the iteration\n",
      "process for finding a smoothing spline with fp = s: s too small.\n",
      "There is an approximation returned but the corresponding weighted sum\n",
      "of squared residuals does not satisfy the condition abs(fp-s)/s < tol.\n",
      "  warnings.warn(message)\n",
      " 37%|███▋      | 29/78 [02:26<06:07,  7.50s/it]"
     ]
    },
    {
     "ename": "",
     "evalue": "",
     "output_type": "error",
     "traceback": [
      "\u001b[1;31mCannot execute code, session has been disposed. Please try restarting the Kernel."
     ]
    },
    {
     "ename": "",
     "evalue": "",
     "output_type": "error",
     "traceback": [
      "\u001b[1;31mThe Kernel crashed while executing code in the the current cell or a previous cell. Please review the code in the cell(s) to identify a possible cause of the failure. Click <a href='https://aka.ms/vscodeJupyterKernelCrash'>here</a> for more info. View Jupyter <a href='command:jupyter.viewOutput'>log</a> for further details."
     ]
    }
   ],
   "source": [
    "# Retrain the best found models for this dataset\n",
    "model_strings = ['dcm']\n",
    "\n",
    "for model_string in model_strings:\n",
    "    with open(f\"models/{device}/{dataset_path}/{model_string}.yaml\", 'r') as stream:\n",
    "        config = yaml.safe_load(stream)\n",
    "        for key, value in config.items():\n",
    "            # Check if value is not an integer\n",
    "            if not isinstance(value, int):\n",
    "                config[key] = value['value']\n",
    "\n",
    "    model = make_model(config)\n",
    "\n",
    "    # Check if model is a binary classifier\n",
    "    if config['model_type'] == 'rf':\n",
    "        # Check if model is a binary classifier\n",
    "        disruptive_window = config['disruptive_window']\n",
    "        _, labels_train = load_features_labels(device, dataset_path, 'train', disruptive_window, numeric_feats)\n",
    "        _, labels_val = load_features_labels(device, dataset_path, 'val', disruptive_window, numeric_feats)\n",
    "\n",
    "        model.fit(x_train, labels_train)\n",
    "    else:\n",
    "        model.fit(x_train, y_train)\n",
    "    save_model(model, model_string, device, dataset_path, numeric_feats)"
   ]
  },
  {
   "cell_type": "code",
   "execution_count": 2,
   "metadata": {},
   "outputs": [],
   "source": [
    "# Make a temporal dataset\n",
    "stack_size = 2\n",
    "make_stacked_sets(device, dataset_path, 'train', stack_size)\n",
    "make_stacked_sets(device, dataset_path, 'test', stack_size)\n",
    "make_stacked_sets(device, dataset_path, 'val', stack_size)"
   ]
  }
 ],
 "metadata": {
  "kernelspec": {
   "display_name": ".venv",
   "language": "python",
   "name": "python3"
  },
  "language_info": {
   "codemirror_mode": {
    "name": "ipython",
    "version": 3
   },
   "file_extension": ".py",
   "mimetype": "text/x-python",
   "name": "python",
   "nbconvert_exporter": "python",
   "pygments_lexer": "ipython3",
   "version": "3.10.7"
  },
  "orig_nbformat": 4
 },
 "nbformat": 4,
 "nbformat_minor": 2
}

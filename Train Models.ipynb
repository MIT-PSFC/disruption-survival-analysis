{
 "cells": [
  {
   "cell_type": "code",
   "execution_count": 1,
   "metadata": {},
   "outputs": [
    {
     "name": "stdout",
     "output_type": "stream",
     "text": [
      "Training shots: 117\n",
      "Test shots: 39\n",
      "Validation shots: 40\n"
     ]
    }
   ],
   "source": [
    "%load_ext autoreload\n",
    "%autoreload 2\n",
    "import pandas as pd\n",
    "from plot_utils import *\n",
    "from preprocess_datasets import load_features_outcomes, load_features_labels, make_training_sets, DEFAULT_FEATURES, ALL_FEATURES\n",
    "from run_models import run_survival_model, run_rf_model, eval_model, save_model, load_model\n",
    "\n",
    "# Make training sets if they haven't been created yet\n",
    "\n",
    "device = 'cmod'\n",
    "#dataset = 'random100'\n",
    "dataset = 'random_256_shots_60%_flattop'\n",
    "#device = 'synthetic'\n",
    "#dataset= 'synthetic100'\n",
    "selection='coarse'\n",
    "\n",
    "#numeric_feats = ['ip', 'n_e', 'aminor', 'kappa', 'squareness', 'delta', 'li', 'Wmhd']\n",
    "numeric_feats = ALL_FEATURES\n",
    "#temporal_suff = ['_avg', '_std', '_int', '_der']\n",
    "#temporal_feats = [feat + suff for feat in numeric_feats for suff in temporal_suff]\n",
    "\n",
    "# TODO: list disruptive vs non-disruptive shots in each dataset\n",
    "make_training_sets(device, dataset, random_seed=0)"
   ]
  },
  {
   "cell_type": "code",
   "execution_count": 2,
   "metadata": {},
   "outputs": [],
   "source": [
    "from auton_survival.preprocessing import Preprocessor\n",
    "# Load and preprocess training, test, validation sets\n",
    "features_train, outcomes_train = load_features_outcomes(device, dataset+'_train', features=numeric_feats)\n",
    "features_test, outcomes_test = load_features_outcomes(device, dataset+'_test', features=numeric_feats)\n",
    "features_val, outcomes_val = load_features_outcomes(device, dataset+'_val', features=numeric_feats)\n",
    "\n",
    "# The features should match the above\n",
    "_, labels_train = load_features_labels(device, dataset+'_train', 0.15, features=numeric_feats)\n",
    "_, labels_test = load_features_labels(device, dataset+'_test', 0.15, features=numeric_feats)\n",
    "_, labels_val = load_features_labels(device, dataset+'_val', 0.15, features=numeric_feats)\n",
    "\n",
    "# Fit the imputer and scaler to the training data and transform the training, test, and validation data\n",
    "preprocessor = Preprocessor(cat_feat_strat='ignore', num_feat_strat='mean')\n",
    "transformer=preprocessor.fit(features_train, cat_feats=[], num_feats=numeric_feats, one_hot=True, fill_value=-1)\n",
    "\n",
    "x_train = transformer.transform(features_train)\n",
    "x_test = transformer.transform(features_test)\n",
    "x_val = transformer.transform(features_val)\n"
   ]
  },
  {
   "cell_type": "code",
   "execution_count": 3,
   "metadata": {},
   "outputs": [
    {
     "name": "stdout",
     "output_type": "stream",
     "text": [
      "Saved model to models/cph_cmod_random_256_shots_60%_flattop.pkl\n"
     ]
    }
   ],
   "source": [
    "# Train a cph model and save it\n",
    "cph_model = run_survival_model('cph', x_train, x_val, outcomes_train, outcomes_val, selection=selection)\n",
    "save_model(cph_model, transformer, 'cph', device, dataset)"
   ]
  },
  {
   "cell_type": "code",
   "execution_count": 4,
   "metadata": {},
   "outputs": [
    {
     "name": "stdout",
     "output_type": "stream",
     "text": [
      "Saved model to models/rf_cmod_random_256_shots_60%_flattop.pkl\n"
     ]
    }
   ],
   "source": [
    "# Train a random forest model and save it\n",
    "rf_model = run_rf_model(x_train, x_val, labels_train, labels_val)\n",
    "save_model(rf_model, transformer, 'rf', device, dataset)"
   ]
  },
  {
   "cell_type": "code",
   "execution_count": 5,
   "metadata": {},
   "outputs": [
    {
     "name": "stderr",
     "output_type": "stream",
     "text": [
      "100%|██████████| 50/50 [00:02<00:00, 23.32it/s]\n",
      "c:\\Users\\zkeith\\Documents\\Risk-Aware Frameworks\\disruption-survival-analysis\\.venv\\lib\\site-packages\\sksurv\\linear_model\\coxph.py:127: RuntimeWarning: overflow encountered in power\n",
      "  y=np.power(self.baseline_survival_.y, risk_score[i]))\n"
     ]
    },
    {
     "name": "stdout",
     "output_type": "stream",
     "text": [
      "Error in fitting model for parameters: {'bs': 50, 'epochs': 50, 'layers': [100], 'learning_rate': 0.001}\n"
     ]
    },
    {
     "name": "stderr",
     "output_type": "stream",
     "text": [
      "100%|██████████| 50/50 [00:02<00:00, 23.33it/s]\n",
      "100%|██████████| 50/50 [00:03<00:00, 16.00it/s]\n",
      "c:\\Users\\zkeith\\Documents\\Risk-Aware Frameworks\\disruption-survival-analysis\\.venv\\lib\\site-packages\\sksurv\\linear_model\\coxph.py:81: RuntimeWarning: divide by zero encountered in divide\n",
      "  y = np.cumsum(n_events / divisor)\n",
      "100%|██████████| 50/50 [00:03<00:00, 16.66it/s]\n",
      "c:\\Users\\zkeith\\Documents\\Risk-Aware Frameworks\\disruption-survival-analysis\\.venv\\lib\\site-packages\\sksurv\\linear_model\\coxph.py:127: RuntimeWarning: overflow encountered in power\n",
      "  y=np.power(self.baseline_survival_.y, risk_score[i]))\n"
     ]
    },
    {
     "name": "stdout",
     "output_type": "stream",
     "text": [
      "Error in fitting model for parameters: {'bs': 50, 'epochs': 50, 'layers': [100, 100], 'learning_rate': 0.0001}\n"
     ]
    },
    {
     "name": "stderr",
     "output_type": "stream",
     "text": [
      "100%|██████████| 50/50 [00:02<00:00, 23.89it/s]\n",
      "c:\\Users\\zkeith\\Documents\\Risk-Aware Frameworks\\disruption-survival-analysis\\.venv\\lib\\site-packages\\sksurv\\linear_model\\coxph.py:127: RuntimeWarning: overflow encountered in power\n",
      "  y=np.power(self.baseline_survival_.y, risk_score[i]))\n"
     ]
    },
    {
     "name": "stdout",
     "output_type": "stream",
     "text": [
      "Error in fitting model for parameters: {'bs': 100, 'epochs': 50, 'layers': [100], 'learning_rate': 0.001}\n"
     ]
    },
    {
     "name": "stderr",
     "output_type": "stream",
     "text": [
      "100%|██████████| 50/50 [00:02<00:00, 24.43it/s]\n",
      "100%|██████████| 50/50 [00:02<00:00, 16.83it/s]\n",
      "c:\\Users\\zkeith\\Documents\\Risk-Aware Frameworks\\disruption-survival-analysis\\.venv\\lib\\site-packages\\sksurv\\linear_model\\coxph.py:81: RuntimeWarning: divide by zero encountered in divide\n",
      "  y = np.cumsum(n_events / divisor)\n",
      "100%|██████████| 50/50 [00:02<00:00, 17.00it/s]\n",
      "c:\\Users\\zkeith\\Documents\\Risk-Aware Frameworks\\disruption-survival-analysis\\.venv\\lib\\site-packages\\sksurv\\linear_model\\coxph.py:127: RuntimeWarning: overflow encountered in power\n",
      "  y=np.power(self.baseline_survival_.y, risk_score[i]))\n"
     ]
    },
    {
     "name": "stdout",
     "output_type": "stream",
     "text": [
      "Error in fitting model for parameters: {'bs': 100, 'epochs': 50, 'layers': [100, 100], 'learning_rate': 0.0001}\n",
      "Saved model to models/dcph_cmod_random_256_shots_60%_flattop.pkl\n"
     ]
    }
   ],
   "source": [
    "# Train a dcph model and save it\n",
    "dcph_model = run_survival_model('dcph', x_train, x_val, outcomes_train, outcomes_val, selection=selection)\n",
    "save_model(dcph_model, transformer, 'dcph', device, dataset)"
   ]
  },
  {
   "cell_type": "code",
   "execution_count": 6,
   "metadata": {},
   "outputs": [],
   "source": [
    "# Train a random survival forest model and save it\n",
    "rsf_model = run_survival_model('rsf', x_train, x_val, outcomes_train, outcomes_val, selection=selection)\n",
    "save_model(rsf_model, transformer, 'rsf', device, dataset)\n"
   ]
  },
  {
   "cell_type": "code",
   "execution_count": null,
   "metadata": {},
   "outputs": [],
   "source": [
    "%%capture --no-display\n",
    "# Train a dsm model and save it\n",
    "dsm_model = run_survival_model('dsm', x_train, x_val, outcomes_train, outcomes_val, selection=selection)\n",
    "save_model(dsm_model, transformer, 'dsm', device, dataset)"
   ]
  },
  {
   "cell_type": "code",
   "execution_count": null,
   "metadata": {},
   "outputs": [
    {
     "ename": "",
     "evalue": "",
     "output_type": "error",
     "traceback": [
      "\u001b[1;31mCannot execute code, session has been disposed. Please try restarting the Kernel."
     ]
    },
    {
     "ename": "",
     "evalue": "",
     "output_type": "error",
     "traceback": [
      "\u001b[1;31mThe Kernel crashed while executing code in the the current cell or a previous cell. Please review the code in the cell(s) to identify a possible cause of the failure. Click <a href='https://aka.ms/vscodeJupyterKernelCrash'>here</a> for more info. View Jupyter <a href='command:jupyter.viewOutput'>log</a> for further details."
     ]
    }
   ],
   "source": [
    "%%capture --no-display\n",
    "# Train a dcm model and save it\n",
    "dcm_model = run_survival_model('dcm', x_train, x_val, outcomes_train, outcomes_val, selection=selection)\n",
    "save_model(dcm_model, transformer, 'dcm', device, dataset)"
   ]
  },
  {
   "cell_type": "code",
   "execution_count": 8,
   "metadata": {},
   "outputs": [
    {
     "name": "stdout",
     "output_type": "stream",
     "text": [
      "Loaded model from models/cph_cmod_random100.pkl\n"
     ]
    }
   ],
   "source": [
    "# Load a model\n",
    "cph_model = load_model('cph', device, dataset)"
   ]
  }
 ],
 "metadata": {
  "kernelspec": {
   "display_name": ".venv",
   "language": "python",
   "name": "python3"
  },
  "language_info": {
   "codemirror_mode": {
    "name": "ipython",
    "version": 3
   },
   "file_extension": ".py",
   "mimetype": "text/x-python",
   "name": "python",
   "nbconvert_exporter": "python",
   "pygments_lexer": "ipython3",
   "version": "3.10.7"
  },
  "orig_nbformat": 4
 },
 "nbformat": 4,
 "nbformat_minor": 2
}
